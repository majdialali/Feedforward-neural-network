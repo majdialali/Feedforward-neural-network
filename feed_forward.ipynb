{
 "cells": [
  {
   "cell_type": "code",
   "execution_count": 268,
   "id": "95380282",
   "metadata": {},
   "outputs": [],
   "source": [
    "class Neuron():\n",
    "    \n",
    "    inputs=[]      \n",
    "    bias=0\n",
    " \n",
    "    def __init__(self, inp):  \n",
    "        self.inputs=inp\n",
    "        \n",
    "    def genRandWeights(self):\n",
    "        import random \n",
    "        return [random.uniform(-1, 1) for i in range(len(self.inputs))]\n",
    "    \n",
    "    def calculateZ(self):\n",
    "        \n",
    "        W=self.genRandWeights()\n",
    "        #print(\"weights: \", W)\n",
    "        #..need to check if we can multiply X with W. otherwise we need to apply transpose\n",
    "        X_W= [self.inputs[i]*W[i] for i in range(len(W)) ]\n",
    "        self.z=sum(X_W) + self.bias\n",
    "        return self.z\n",
    "    \n",
    "    \n",
    "    #activation functions\n",
    "    \n",
    "    def step_func(self):\n",
    "        z=self.calculateZ()\n",
    "        return 1 if z>=0 else 0\n",
    "    \n",
    "    def sign_func(self):\n",
    "        z=self.calculateZ()\n",
    "        return -1 if z <0 else (1 if z>0 else 0)\n",
    "    \n",
    "    def activation_func(self):\n",
    "        z=self.calculateZ()   \n",
    "        return 1/(1+2.7**-z)\n",
    "    \n",
    "    def ReLU(self):   \n",
    "        z=self.calculateZ()\n",
    "        return 0 if z<=0 else z \n",
    "    \n",
    "#n= Neuron([.9,.2,.3,1])\n",
    "#n.activation_func()"
   ]
  },
  {
   "cell_type": "code",
   "execution_count": 269,
   "id": "1cae6146",
   "metadata": {},
   "outputs": [],
   "source": [
    "class Layer():\n",
    " \n",
    "    inputs=[]\n",
    "    \n",
    "    def __init__(self, inputs, n_neurons):  \n",
    "        self.n_neurons=n_neurons\n",
    "        self.inputs=inputs\n",
    "    \n",
    "    def _generate_neurons(self):\n",
    "        neurons=[]\n",
    "        for i in range(self.n_neurons):\n",
    "            neurons.append(Neuron(self.inputs))\n",
    "        return neurons\n",
    "    \n",
    "    def outputs(self):\n",
    "        neurons=self._generate_neurons()\n",
    "        return [neurons[i].ReLU() for i in range(len(neurons))]\n",
    "    \n",
    "    \n"
   ]
  },
  {
   "cell_type": "code",
   "execution_count": 270,
   "id": "5c50613e",
   "metadata": {},
   "outputs": [
    {
     "name": "stdout",
     "output_type": "stream",
     "text": [
      "[97.65139291439944, 0, 0, 99.93790129137642]\n",
      "[0, 6.111467608130758, 0, 23.581477980730714, 0]\n",
      "[11.246011778560709, 17.626452901921763, 0, 0, 0]\n",
      "[16.641331852179835, 0]\n"
     ]
    },
    {
     "data": {
      "text/plain": [
       "'layer1=Layer([100,-100,44,0],5)   \\nlayer2=Layer(layer1.outputs(),10)\\nlayer2.outputs()'"
      ]
     },
     "execution_count": 270,
     "metadata": {},
     "output_type": "execute_result"
    }
   ],
   "source": [
    "class NN():\n",
    "    def __init__(self, inputs, n_layers, n_neurons_pr_layer):  \n",
    "        if len(n_neurons_pr_layer) != n_layers:\n",
    "            raise(\"parameter \\\"n_neurons_pr_layer\\\" is a list. Every element in it represents nr neuron in correspondent layer \")\n",
    "        #list says how many neurons every layer has  for if this list has the values: [3,4,5]\n",
    "        #we must have 3 layers. And the first layer has 3 neuron, the second 4,and the last 4 \n",
    "        self.n_layers=n_layers\n",
    "        self.inputs=inputs\n",
    "        self.n_neurons_pr_layer=n_neurons_pr_layer\n",
    "    \n",
    "    def generate_layers_neurons(self):\n",
    "        #first layer takes orginal inputs\n",
    "        layers=[]\n",
    "    \n",
    "        for i in range(self.n_layers):\n",
    "            if i==0:\n",
    "                layer0=Layer(self.inputs, self.n_neurons_pr_layer[0])\n",
    "                layers.append(layer0)\n",
    "            else:\n",
    "                temp=Layer(layers[i-1].outputs(),self.n_neurons_pr_layer[i])\n",
    "                layers.append(temp)\n",
    "        return layers\n",
    "    \n",
    "            #first Layer(output0)\n",
    "            #else layer(preverious layer)\n",
    "        \"\"\"  for ii in range(self.n_neurons_pr_layer[i]):\n",
    "                #Neuron()\n",
    "                pass\"\"\"\n",
    "        \"\"\"\n",
    "          layers=[]\n",
    "        for i in range(self.n_layers):\n",
    "            layers.append(Neuron(self.inputs))   \n",
    "        return layers \n",
    "        \"\"\"\n",
    "       \n",
    "    \n",
    "    def firing_neurons(): #which nodes send signals\n",
    "        pass\n",
    "    def training(): # pluss tuning\n",
    "        pass\n",
    "    def predict():\n",
    "        pass\n",
    "    def loss_function():\n",
    "        pass\n",
    "nn =NN([0,2,-1,3.3,-2.7, 1.1,2.2, -100],4,[4,5,5,2])  \n",
    "layers=nn.generate_layers_neurons()\n",
    "for l in layers:\n",
    "    print(l.outputs())\n",
    "\n",
    "\n",
    "#problem! I generate random weights for every neuron"
   ]
  },
  {
   "cell_type": "code",
   "execution_count": 287,
   "id": "b73269e3",
   "metadata": {},
   "outputs": [
    {
     "data": {
      "text/plain": [
       "0"
      ]
     },
     "execution_count": 287,
     "metadata": {},
     "output_type": "execute_result"
    }
   ],
   "source": [
    "\n",
    "        "
   ]
  },
  {
   "cell_type": "code",
   "execution_count": null,
   "id": "456e2c44",
   "metadata": {},
   "outputs": [],
   "source": []
  },
  {
   "cell_type": "code",
   "execution_count": null,
   "id": "a366a764",
   "metadata": {},
   "outputs": [],
   "source": []
  },
  {
   "cell_type": "code",
   "execution_count": null,
   "id": "88061659",
   "metadata": {},
   "outputs": [],
   "source": []
  }
 ],
 "metadata": {
  "kernelspec": {
   "display_name": "Python 3",
   "language": "python",
   "name": "python3"
  },
  "language_info": {
   "codemirror_mode": {
    "name": "ipython",
    "version": 3
   },
   "file_extension": ".py",
   "mimetype": "text/x-python",
   "name": "python",
   "nbconvert_exporter": "python",
   "pygments_lexer": "ipython3",
   "version": "3.8.8"
  }
 },
 "nbformat": 4,
 "nbformat_minor": 5
}
